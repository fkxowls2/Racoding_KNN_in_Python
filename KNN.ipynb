{
 "cells": [
  {
   "cell_type": "markdown",
   "id": "70266cf3",
   "metadata": {},
   "source": [
    "## 작성한 KNN 알고리즘(함수) 설명"
   ]
  },
  {
   "cell_type": "code",
   "execution_count": 2,
   "id": "3e2a31ca",
   "metadata": {},
   "outputs": [],
   "source": [
    "def my_knn(train, test, cl, k=1, method='Euclidean'):\n",
    "    #사용되는 패키지 호출\n",
    "    import numpy as np\n",
    "    import pandas as pd\n",
    "    #함수에 의한 입력데이터의 변형을 막기위해 복사하여 변수에 입력\n",
    "    #들어오는 데이터의 형식에 상관없기위해 모두 넘파이로 변형\n",
    "    train2 = np.array(train.copy())\n",
    "    test2 = np.array(test.copy())\n",
    "    cl2 = np.array(cl.copy())\n",
    "    result = []\n",
    "    for i in range(len(test)):\n",
    "        #method 옵션에 따른 데이터별 거리계산\n",
    "        if method=='Manhattan':\n",
    "            temp = np.abs(train2 - test2[i])\n",
    "        elif method=='Euclidean':\n",
    "            temp = (train2 - test2[i])**2\n",
    "        dist = np.sqrt(np.sum(temp, axis=1))\n",
    "        #거리가 가까운 순으로 순위 입력\n",
    "        rnk = pd.DataFrame({'rnk':dist}).rank(method='min')\n",
    "        #정답 라벨(클래스) 추가\n",
    "        rnk['cl'] = cl2\n",
    "        #K 개수에 따른 정답 라벨 중 최고 빈도의 라벨을 추출\n",
    "        top = rnk['cl'][rnk['rnk']<=k].mode()[0]\n",
    "        #추출한 라벨을 결과 변수에 추가\n",
    "        result.append(top)\n",
    "    #결과를 나중에 비교분석(crosstab에 사용하기 위해 넘파이 형식으로 리턴)\n",
    "    return np.array(result)"
   ]
  },
  {
   "cell_type": "markdown",
   "id": "56e2280f",
   "metadata": {},
   "source": [
    "## my_knn으로 iris 데이터 분류"
   ]
  },
  {
   "cell_type": "code",
   "execution_count": 17,
   "id": "a5f5071b",
   "metadata": {},
   "outputs": [
    {
     "name": "stdout",
     "output_type": "stream",
     "text": [
      "#######유클리디안 거리#######\n",
      "정확도: 0.9666666666666667\n",
      "actual      Setosa  Versicolor  Virginica\n",
      "predicted                                \n",
      "Setosa          11           0          0\n",
      "Versicolor       0          13          1\n",
      "Virginica        0           0          5 \n",
      "\n",
      "#######맨해튼 거리#######\n",
      "정확도: 0.9333333333333333\n",
      "actual      Setosa  Versicolor  Virginica\n",
      "predicted                                \n",
      "Setosa          11           0          0\n",
      "Versicolor       0          12          1\n",
      "Virginica        0           1          5\n"
     ]
    }
   ],
   "source": [
    "#데이터 준비\n",
    "import  pandas  as  pd\n",
    "iris= pd.read_csv(\"d:\\\\data\\\\iris.csv\")\n",
    "x = iris.iloc[:, :-1]\n",
    "y = iris['variety']\n",
    "from sklearn.preprocessing import  MinMaxScaler\n",
    "scaler = MinMaxScaler()\n",
    "scaler.fit(x)\n",
    "x2 = scaler.transform(x)\n",
    "y2 = y\n",
    "from sklearn.model_selection import  train_test_split\n",
    "x_train, x_test, y_train, y_test = train_test_split(x2, y2, test_size=0.2, random_state=0)\n",
    "\n",
    "#분류 결과\n",
    "print('#######유클리디안 거리#######')\n",
    "result_uc = my_knn(x_train, x_test, y_train, 1)\n",
    "print('정확도:', sum(result_uc == y_test)/len(y_test))\n",
    "print(pd.crosstab(result_uc, y_test, rownames=['predicted'], colnames=['actual']), '\\n')\n",
    "print('#######맨해튼 거리#######')\n",
    "result_mh = my_knn(x_train, x_test, y_train, 1, method='Manhattan')\n",
    "print('정확도:', sum(result_mh == y_test)/len(y_test))\n",
    "print(pd.crosstab(result_mh, y_test, rownames=['predicted'], colnames=['actual']))"
   ]
  },
  {
   "attachments": {},
   "cell_type": "markdown",
   "id": "141038fe",
   "metadata": {},
   "source": [
    "## 사이키런의 KNeighborsClassifier와 성능 비교"
   ]
  },
  {
   "cell_type": "code",
   "execution_count": 21,
   "id": "8bf6b843",
   "metadata": {},
   "outputs": [
    {
     "name": "stdout",
     "output_type": "stream",
     "text": [
      "#######사이키런#######\n",
      "정확도: 0.9666666666666667\n",
      "actual      Setosa  Versicolor  Virginica\n",
      "predicted                                \n",
      "Setosa          11           0          0\n",
      "Versicolor       0          13          1\n",
      "Virginica        0           0          5\n"
     ]
    }
   ],
   "source": [
    "from sklearn.neighbors import KNeighborsClassifier\n",
    "model = KNeighborsClassifier(n_neighbors = 1)\n",
    "model.fit(x_train, y_train)\n",
    "\n",
    "print('#######사이키런#######')\n",
    "result_sk = model.predict(x_test)\n",
    "print('정확도:', sum(result_sk == y_test)/len(y_test))\n",
    "print(pd.crosstab(result_sk, y_test, rownames=['predicted'], colnames=['actual']))"
   ]
  }
 ],
 "metadata": {
  "kernelspec": {
   "display_name": "Python 3",
   "language": "python",
   "name": "python3"
  },
  "language_info": {
   "codemirror_mode": {
    "name": "ipython",
    "version": 3
   },
   "file_extension": ".py",
   "mimetype": "text/x-python",
   "name": "python",
   "nbconvert_exporter": "python",
   "pygments_lexer": "ipython3",
   "version": "3.8.5"
  }
 },
 "nbformat": 4,
 "nbformat_minor": 5
}
